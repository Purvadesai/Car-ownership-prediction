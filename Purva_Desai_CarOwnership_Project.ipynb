{
  "nbformat": 4,
  "nbformat_minor": 0,
  "metadata": {
    "colab": {
      "provenance": []
    },
    "kernelspec": {
      "name": "python3",
      "display_name": "Python 3"
    },
    "language_info": {
      "name": "python"
    }
  },
  "cells": [
    {
      "cell_type": "code",
      "execution_count": 1,
      "metadata": {
        "id": "BP_t4zP5RCUd"
      },
      "outputs": [],
      "source": [
        "import pandas as pd\n",
        "import numpy as np\n",
        "import matplotlib.pyplot as plt\n",
        "import seaborn as sns\n",
        "import warnings\n",
        "from sklearn.preprocessing import LabelEncoder\n",
        "from sklearn.model_selection import train_test_split\n",
        "from sklearn.preprocessing import MinMaxScaler\n",
        "from sklearn.linear_model import LogisticRegression\n",
        "from sklearn.tree import DecisionTreeClassifier\n",
        "from sklearn.ensemble import RandomForestClassifier\n",
        "from sklearn.neighbors import KNeighborsClassifier\n",
        "from sklearn.naive_bayes import GaussianNB\n",
        "from sklearn.metrics import accuracy_score,f1_score,precision_score,recall_score,roc_curve,roc_auc_score,confusion_matrix,classification_report\n",
        "warnings.filterwarnings('ignore')\n",
        "pd.set_option('display.max_columns',None)"
      ]
    },
    {
      "cell_type": "code",
      "source": [
        "df_Car = pd.read_csv('Car Ownership.csv')\n",
        "df_Car.head()"
      ],
      "metadata": {
        "colab": {
          "base_uri": "https://localhost:8080/",
          "height": 206
        },
        "id": "xEqMpAwzRJhR",
        "outputId": "bf9b988a-956b-4be1-d8ed-1889f92c8a2f"
      },
      "execution_count": 2,
      "outputs": [
        {
          "output_type": "execute_result",
          "data": {
            "text/plain": [
              "    Occupation Monthly Income  Credit Score Years of Employment  \\\n",
              "0      Teacher          40000         750.0                  10   \n",
              "1     Engineer          60000         800.0                   8   \n",
              "2        Nurse          25000         650.0                   5   \n",
              "3       Doctor          80000         900.0                  12   \n",
              "4  Businessman         100000         700.0                  15   \n",
              "\n",
              "  Finance Status            Finance History  Car Number of Children  \n",
              "0           Good                  No issues  Yes                  2  \n",
              "1           Good                  No issues  Yes                  1  \n",
              "2           Fair  Late payment 2 months ago   No                  0  \n",
              "3      Excellent                  No issues  Yes                  3  \n",
              "4           Good  Late payment 6 months ago  Yes                  2  "
            ],
            "text/html": [
              "\n",
              "  <div id=\"df-269906d9-e711-444a-ab72-ebaffe3d6d97\">\n",
              "    <div class=\"colab-df-container\">\n",
              "      <div>\n",
              "<style scoped>\n",
              "    .dataframe tbody tr th:only-of-type {\n",
              "        vertical-align: middle;\n",
              "    }\n",
              "\n",
              "    .dataframe tbody tr th {\n",
              "        vertical-align: top;\n",
              "    }\n",
              "\n",
              "    .dataframe thead th {\n",
              "        text-align: right;\n",
              "    }\n",
              "</style>\n",
              "<table border=\"1\" class=\"dataframe\">\n",
              "  <thead>\n",
              "    <tr style=\"text-align: right;\">\n",
              "      <th></th>\n",
              "      <th>Occupation</th>\n",
              "      <th>Monthly Income</th>\n",
              "      <th>Credit Score</th>\n",
              "      <th>Years of Employment</th>\n",
              "      <th>Finance Status</th>\n",
              "      <th>Finance History</th>\n",
              "      <th>Car</th>\n",
              "      <th>Number of Children</th>\n",
              "    </tr>\n",
              "  </thead>\n",
              "  <tbody>\n",
              "    <tr>\n",
              "      <th>0</th>\n",
              "      <td>Teacher</td>\n",
              "      <td>40000</td>\n",
              "      <td>750.0</td>\n",
              "      <td>10</td>\n",
              "      <td>Good</td>\n",
              "      <td>No issues</td>\n",
              "      <td>Yes</td>\n",
              "      <td>2</td>\n",
              "    </tr>\n",
              "    <tr>\n",
              "      <th>1</th>\n",
              "      <td>Engineer</td>\n",
              "      <td>60000</td>\n",
              "      <td>800.0</td>\n",
              "      <td>8</td>\n",
              "      <td>Good</td>\n",
              "      <td>No issues</td>\n",
              "      <td>Yes</td>\n",
              "      <td>1</td>\n",
              "    </tr>\n",
              "    <tr>\n",
              "      <th>2</th>\n",
              "      <td>Nurse</td>\n",
              "      <td>25000</td>\n",
              "      <td>650.0</td>\n",
              "      <td>5</td>\n",
              "      <td>Fair</td>\n",
              "      <td>Late payment 2 months ago</td>\n",
              "      <td>No</td>\n",
              "      <td>0</td>\n",
              "    </tr>\n",
              "    <tr>\n",
              "      <th>3</th>\n",
              "      <td>Doctor</td>\n",
              "      <td>80000</td>\n",
              "      <td>900.0</td>\n",
              "      <td>12</td>\n",
              "      <td>Excellent</td>\n",
              "      <td>No issues</td>\n",
              "      <td>Yes</td>\n",
              "      <td>3</td>\n",
              "    </tr>\n",
              "    <tr>\n",
              "      <th>4</th>\n",
              "      <td>Businessman</td>\n",
              "      <td>100000</td>\n",
              "      <td>700.0</td>\n",
              "      <td>15</td>\n",
              "      <td>Good</td>\n",
              "      <td>Late payment 6 months ago</td>\n",
              "      <td>Yes</td>\n",
              "      <td>2</td>\n",
              "    </tr>\n",
              "  </tbody>\n",
              "</table>\n",
              "</div>\n",
              "      <button class=\"colab-df-convert\" onclick=\"convertToInteractive('df-269906d9-e711-444a-ab72-ebaffe3d6d97')\"\n",
              "              title=\"Convert this dataframe to an interactive table.\"\n",
              "              style=\"display:none;\">\n",
              "        \n",
              "  <svg xmlns=\"http://www.w3.org/2000/svg\" height=\"24px\"viewBox=\"0 0 24 24\"\n",
              "       width=\"24px\">\n",
              "    <path d=\"M0 0h24v24H0V0z\" fill=\"none\"/>\n",
              "    <path d=\"M18.56 5.44l.94 2.06.94-2.06 2.06-.94-2.06-.94-.94-2.06-.94 2.06-2.06.94zm-11 1L8.5 8.5l.94-2.06 2.06-.94-2.06-.94L8.5 2.5l-.94 2.06-2.06.94zm10 10l.94 2.06.94-2.06 2.06-.94-2.06-.94-.94-2.06-.94 2.06-2.06.94z\"/><path d=\"M17.41 7.96l-1.37-1.37c-.4-.4-.92-.59-1.43-.59-.52 0-1.04.2-1.43.59L10.3 9.45l-7.72 7.72c-.78.78-.78 2.05 0 2.83L4 21.41c.39.39.9.59 1.41.59.51 0 1.02-.2 1.41-.59l7.78-7.78 2.81-2.81c.8-.78.8-2.07 0-2.86zM5.41 20L4 18.59l7.72-7.72 1.47 1.35L5.41 20z\"/>\n",
              "  </svg>\n",
              "      </button>\n",
              "      \n",
              "  <style>\n",
              "    .colab-df-container {\n",
              "      display:flex;\n",
              "      flex-wrap:wrap;\n",
              "      gap: 12px;\n",
              "    }\n",
              "\n",
              "    .colab-df-convert {\n",
              "      background-color: #E8F0FE;\n",
              "      border: none;\n",
              "      border-radius: 50%;\n",
              "      cursor: pointer;\n",
              "      display: none;\n",
              "      fill: #1967D2;\n",
              "      height: 32px;\n",
              "      padding: 0 0 0 0;\n",
              "      width: 32px;\n",
              "    }\n",
              "\n",
              "    .colab-df-convert:hover {\n",
              "      background-color: #E2EBFA;\n",
              "      box-shadow: 0px 1px 2px rgba(60, 64, 67, 0.3), 0px 1px 3px 1px rgba(60, 64, 67, 0.15);\n",
              "      fill: #174EA6;\n",
              "    }\n",
              "\n",
              "    [theme=dark] .colab-df-convert {\n",
              "      background-color: #3B4455;\n",
              "      fill: #D2E3FC;\n",
              "    }\n",
              "\n",
              "    [theme=dark] .colab-df-convert:hover {\n",
              "      background-color: #434B5C;\n",
              "      box-shadow: 0px 1px 3px 1px rgba(0, 0, 0, 0.15);\n",
              "      filter: drop-shadow(0px 1px 2px rgba(0, 0, 0, 0.3));\n",
              "      fill: #FFFFFF;\n",
              "    }\n",
              "  </style>\n",
              "\n",
              "      <script>\n",
              "        const buttonEl =\n",
              "          document.querySelector('#df-269906d9-e711-444a-ab72-ebaffe3d6d97 button.colab-df-convert');\n",
              "        buttonEl.style.display =\n",
              "          google.colab.kernel.accessAllowed ? 'block' : 'none';\n",
              "\n",
              "        async function convertToInteractive(key) {\n",
              "          const element = document.querySelector('#df-269906d9-e711-444a-ab72-ebaffe3d6d97');\n",
              "          const dataTable =\n",
              "            await google.colab.kernel.invokeFunction('convertToInteractive',\n",
              "                                                     [key], {});\n",
              "          if (!dataTable) return;\n",
              "\n",
              "          const docLinkHtml = 'Like what you see? Visit the ' +\n",
              "            '<a target=\"_blank\" href=https://colab.research.google.com/notebooks/data_table.ipynb>data table notebook</a>'\n",
              "            + ' to learn more about interactive tables.';\n",
              "          element.innerHTML = '';\n",
              "          dataTable['output_type'] = 'display_data';\n",
              "          await google.colab.output.renderOutput(dataTable, element);\n",
              "          const docLink = document.createElement('div');\n",
              "          docLink.innerHTML = docLinkHtml;\n",
              "          element.appendChild(docLink);\n",
              "        }\n",
              "      </script>\n",
              "    </div>\n",
              "  </div>\n",
              "  "
            ]
          },
          "metadata": {},
          "execution_count": 2
        }
      ]
    },
    {
      "cell_type": "markdown",
      "source": [
        "Getting total no. of null values in the dataset"
      ],
      "metadata": {
        "id": "yE2T4cH2RxLQ"
      }
    },
    {
      "cell_type": "code",
      "source": [
        "df_Car.isnull().sum()"
      ],
      "metadata": {
        "colab": {
          "base_uri": "https://localhost:8080/"
        },
        "id": "funllWc8Rc-l",
        "outputId": "83e72084-8e36-4adc-b1c2-2d06ab484398"
      },
      "execution_count": 3,
      "outputs": [
        {
          "output_type": "execute_result",
          "data": {
            "text/plain": [
              "Occupation              10\n",
              "Monthly Income          13\n",
              "Credit Score            40\n",
              "Years of Employment     43\n",
              "Finance Status          23\n",
              "Finance History         28\n",
              "Car                     20\n",
              "Number of Children     125\n",
              "dtype: int64"
            ]
          },
          "metadata": {},
          "execution_count": 3
        }
      ]
    },
    {
      "cell_type": "markdown",
      "source": [
        "Now, to get rid of the null values; we wiil drop the null values"
      ],
      "metadata": {
        "id": "6A3XWUy5R4Ff"
      }
    },
    {
      "cell_type": "code",
      "source": [
        "df_Car.dropna(inplace = True)\n",
        "df_Car.isnull().sum()"
      ],
      "metadata": {
        "colab": {
          "base_uri": "https://localhost:8080/"
        },
        "id": "PSJhywbKU1pF",
        "outputId": "51f87754-114a-4ea9-f0b8-f2e94f4733dd"
      },
      "execution_count": 4,
      "outputs": [
        {
          "output_type": "execute_result",
          "data": {
            "text/plain": [
              "Occupation             0\n",
              "Monthly Income         0\n",
              "Credit Score           0\n",
              "Years of Employment    0\n",
              "Finance Status         0\n",
              "Finance History        0\n",
              "Car                    0\n",
              "Number of Children     0\n",
              "dtype: int64"
            ]
          },
          "metadata": {},
          "execution_count": 4
        }
      ]
    },
    {
      "cell_type": "code",
      "source": [
        "df_Car['Car'] = df_Car.Car.map({'Yes':1,'No':0})\n",
        "print(df_Car.Car.value_counts())\n",
        "sns.countplot(data=df_Car, x='Car')"
      ],
      "metadata": {
        "colab": {
          "base_uri": "https://localhost:8080/",
          "height": 518
        },
        "id": "B3UZzb2VU8ox",
        "outputId": "636b942a-3d3b-441a-f659-bc016210b4d7"
      },
      "execution_count": 5,
      "outputs": [
        {
          "output_type": "stream",
          "name": "stdout",
          "text": [
            "1    207\n",
            "0    108\n",
            "Name: Car, dtype: int64\n"
          ]
        },
        {
          "output_type": "execute_result",
          "data": {
            "text/plain": [
              "<Axes: xlabel='Car', ylabel='count'>"
            ]
          },
          "metadata": {},
          "execution_count": 5
        },
        {
          "output_type": "display_data",
          "data": {
            "text/plain": [
              "<Figure size 640x480 with 1 Axes>"
            ],
            "image/png": "[encoded data removed]"
          },
          "metadata": {}
        }
      ]
    },
    {
      "cell_type": "code",
      "source": [
        "category_column = ['Finance Status','Finance History','Occupation',]\n",
        "fig,ax = plt.subplots(figsize=(10,10))\n",
        "for num,i in enumerate(category_column,1):\n",
        "    plt.subplot(2,2,num)\n",
        "    sns.countplot(x=df_Car[i],hue='Car',data=df_Car,order=df_Car[i].value_counts().head(10).index)\n",
        "    plt.legend(title='Car',loc='upper right')\n",
        "    plt.xticks(rotation=90)\n",
        "plt.show()"
      ],
      "metadata": {
        "colab": {
          "base_uri": "https://localhost:8080/",
          "height": 994
        },
        "id": "urotSaagbGkC",
        "outputId": "965ab623-e60c-467d-ffd5-6798b7a0fd34"
      },
      "execution_count": 6,
      "outputs": [
        {
          "output_type": "display_data",
          "data": {
            "text/plain": [
              "<Figure size 1000x1000 with 3 Axes>"
            ],
            "image/png": "[encoded data removed]"
          },
          "metadata": {}
        }
      ]
    },
    {
      "cell_type": "markdown",
      "source": [
        "Now we will plot monthly incomw VS the vredit score scatter plot."
      ],
      "metadata": {
        "id": "hgGeoyK_hsto"
      }
    },
    {
      "cell_type": "code",
      "source": [
        "df_Car['Monthly Income'] = df_Car['Monthly Income'].apply(lambda x:str(x).replace('$','').replace(',','').replace('USD','').replace('usd',''))\n",
        "df_Car['Monthly Income'] = df_Car['Monthly Income'].apply(lambda x:str(x).rstrip())\n",
        "df_Car['Monthly Income'] = df_Car['Monthly Income'].apply(lambda x:float(x[:-1])*1000 if x.endswith('k') else int(x))\n",
        "df_Car['Years of Employment'] = df_Car['Years of Employment'].apply(lambda x:str(x).replace(' years','').replace(' year','').replace(' y',''))\n",
        "df_Car['Finance History'] = df_Car['Finance History'].apply(lambda x:str(x).replace('No significant issues','No significant issue').replace('Late payments','Late payment'))\n",
        "df_Car['Finance Status'] = df_Car['Finance Status'].apply(lambda x:str(x).replace('Unkonw','Unknow'))"
      ],
      "metadata": {
        "id": "a7fL5U-3hrxB"
      },
      "execution_count": 7,
      "outputs": []
    },
    {
      "cell_type": "code",
      "source": [
        "plt.figure(figsize=(15,5))\n",
        "plt.subplot(1,2,1)\n",
        "sns.scatterplot(data=df_Car,x='Monthly Income',y='Credit Score')"
      ],
      "metadata": {
        "colab": {
          "base_uri": "https://localhost:8080/",
          "height": 482
        },
        "id": "qAXErCVOcZD_",
        "outputId": "aca856dc-d652-4b2b-ce5a-ce81c9421d70"
      },
      "execution_count": 8,
      "outputs": [
        {
          "output_type": "execute_result",
          "data": {
            "text/plain": [
              "<Axes: xlabel='Monthly Income', ylabel='Credit Score'>"
            ]
          },
          "metadata": {},
          "execution_count": 8
        },
        {
          "output_type": "display_data",
          "data": {
            "text/plain": [
              "<Figure size 1500x500 with 1 Axes>"
            ],
            "image/png": "[encoded data removed]"
          },
          "metadata": {}
        }
      ]
    },
    {
      "cell_type": "code",
      "source": [
        "occupationVSincome = df_Car.groupby('Occupation')['Monthly Income'].sum().reset_index().sort_values('Monthly Income',ascending=False).head(10).reset_index(drop=True)\n",
        "occupationVSincome"
      ],
      "metadata": {
        "colab": {
          "base_uri": "https://localhost:8080/",
          "height": 362
        },
        "id": "g4MYM6nokFjg",
        "outputId": "6ac2885f-c8fb-4bd4-a8e8-36a74ed41999"
      },
      "execution_count": 9,
      "outputs": [
        {
          "output_type": "execute_result",
          "data": {
            "text/plain": [
              "           Occupation  Monthly Income\n",
              "0            Engineer        235500.0\n",
              "1         Businessman        200000.0\n",
              "2              Doctor        160000.0\n",
              "3             Teacher         88200.0\n",
              "4               Nurse         85000.0\n",
              "5                Chef         63300.0\n",
              "6         Electrician         58900.0\n",
              "7       Sales Manager         58600.0\n",
              "8  Physical Therapist         47500.0\n",
              "9           Architect         46100.0"
            ],
            "text/html": [
              "\n",
              "  <div id=\"df-a23b8956-213c-48c2-b42f-849b18f7d950\">\n",
              "    <div class=\"colab-df-container\">\n",
              "      <div>\n",
              "<style scoped>\n",
              "    .dataframe tbody tr th:only-of-type {\n",
              "        vertical-align: middle;\n",
              "    }\n",
              "\n",
              "    .dataframe tbody tr th {\n",
              "        vertical-align: top;\n",
              "    }\n",
              "\n",
              "    .dataframe thead th {\n",
              "        text-align: right;\n",
              "    }\n",
              "</style>\n",
              "<table border=\"1\" class=\"dataframe\">\n",
              "  <thead>\n",
              "    <tr style=\"text-align: right;\">\n",
              "      <th></th>\n",
              "      <th>Occupation</th>\n",
              "      <th>Monthly Income</th>\n",
              "    </tr>\n",
              "  </thead>\n",
              "  <tbody>\n",
              "    <tr>\n",
              "      <th>0</th>\n",
              "      <td>Engineer</td>\n",
              "      <td>235500.0</td>\n",
              "    </tr>\n",
              "    <tr>\n",
              "      <th>1</th>\n",
              "      <td>Businessman</td>\n",
              "      <td>200000.0</td>\n",
              "    </tr>\n",
              "    <tr>\n",
              "      <th>2</th>\n",
              "      <td>Doctor</td>\n",
              "      <td>160000.0</td>\n",
              "    </tr>\n",
              "    <tr>\n",
              "      <th>3</th>\n",
              "      <td>Teacher</td>\n",
              "      <td>88200.0</td>\n",
              "    </tr>\n",
              "    <tr>\n",
              "      <th>4</th>\n",
              "      <td>Nurse</td>\n",
              "      <td>85000.0</td>\n",
              "    </tr>\n",
              "    <tr>\n",
              "      <th>5</th>\n",
              "      <td>Chef</td>\n",
              "      <td>63300.0</td>\n",
              "    </tr>\n",
              "    <tr>\n",
              "      <th>6</th>\n",
              "      <td>Electrician</td>\n",
              "      <td>58900.0</td>\n",
              "    </tr>\n",
              "    <tr>\n",
              "      <th>7</th>\n",
              "      <td>Sales Manager</td>\n",
              "      <td>58600.0</td>\n",
              "    </tr>\n",
              "    <tr>\n",
              "      <th>8</th>\n",
              "      <td>Physical Therapist</td>\n",
              "      <td>47500.0</td>\n",
              "    </tr>\n",
              "    <tr>\n",
              "      <th>9</th>\n",
              "      <td>Architect</td>\n",
              "      <td>46100.0</td>\n",
              "    </tr>\n",
              "  </tbody>\n",
              "</table>\n",
              "</div>\n",
              "      <button class=\"colab-df-convert\" onclick=\"convertToInteractive('df-a23b8956-213c-48c2-b42f-849b18f7d950')\"\n",
              "              title=\"Convert this dataframe to an interactive table.\"\n",
              "              style=\"display:none;\">\n",
              "        \n",
              "  <svg xmlns=\"http://www.w3.org/2000/svg\" height=\"24px\"viewBox=\"0 0 24 24\"\n",
              "       width=\"24px\">\n",
              "    <path d=\"M0 0h24v24H0V0z\" fill=\"none\"/>\n",
              "    <path d=\"M18.56 5.44l.94 2.06.94-2.06 2.06-.94-2.06-.94-.94-2.06-.94 2.06-2.06.94zm-11 1L8.5 8.5l.94-2.06 2.06-.94-2.06-.94L8.5 2.5l-.94 2.06-2.06.94zm10 10l.94 2.06.94-2.06 2.06-.94-2.06-.94-.94-2.06-.94 2.06-2.06.94z\"/><path d=\"M17.41 7.96l-1.37-1.37c-.4-.4-.92-.59-1.43-.59-.52 0-1.04.2-1.43.59L10.3 9.45l-7.72 7.72c-.78.78-.78 2.05 0 2.83L4 21.41c.39.39.9.59 1.41.59.51 0 1.02-.2 1.41-.59l7.78-7.78 2.81-2.81c.8-.78.8-2.07 0-2.86zM5.41 20L4 18.59l7.72-7.72 1.47 1.35L5.41 20z\"/>\n",
              "  </svg>\n",
              "      </button>\n",
              "      \n",
              "  <style>\n",
              "    .colab-df-container {\n",
              "      display:flex;\n",
              "      flex-wrap:wrap;\n",
              "      gap: 12px;\n",
              "    }\n",
              "\n",
              "    .colab-df-convert {\n",
              "      background-color: #E8F0FE;\n",
              "      border: none;\n",
              "      border-radius: 50%;\n",
              "      cursor: pointer;\n",
              "      display: none;\n",
              "      fill: #1967D2;\n",
              "      height: 32px;\n",
              "      padding: 0 0 0 0;\n",
              "      width: 32px;\n",
              "    }\n",
              "\n",
              "    .colab-df-convert:hover {\n",
              "      background-color: #E2EBFA;\n",
              "      box-shadow: 0px 1px 2px rgba(60, 64, 67, 0.3), 0px 1px 3px 1px rgba(60, 64, 67, 0.15);\n",
              "      fill: #174EA6;\n",
              "    }\n",
              "\n",
              "    [theme=dark] .colab-df-convert {\n",
              "      background-color: #3B4455;\n",
              "      fill: #D2E3FC;\n",
              "    }\n",
              "\n",
              "    [theme=dark] .colab-df-convert:hover {\n",
              "      background-color: #434B5C;\n",
              "      box-shadow: 0px 1px 3px 1px rgba(0, 0, 0, 0.15);\n",
              "      filter: drop-shadow(0px 1px 2px rgba(0, 0, 0, 0.3));\n",
              "      fill: #FFFFFF;\n",
              "    }\n",
              "  </style>\n",
              "\n",
              "      <script>\n",
              "        const buttonEl =\n",
              "          document.querySelector('#df-a23b8956-213c-48c2-b42f-849b18f7d950 button.colab-df-convert');\n",
              "        buttonEl.style.display =\n",
              "          google.colab.kernel.accessAllowed ? 'block' : 'none';\n",
              "\n",
              "        async function convertToInteractive(key) {\n",
              "          const element = document.querySelector('#df-a23b8956-213c-48c2-b42f-849b18f7d950');\n",
              "          const dataTable =\n",
              "            await google.colab.kernel.invokeFunction('convertToInteractive',\n",
              "                                                     [key], {});\n",
              "          if (!dataTable) return;\n",
              "\n",
              "          const docLinkHtml = 'Like what you see? Visit the ' +\n",
              "            '<a target=\"_blank\" href=https://colab.research.google.com/notebooks/data_table.ipynb>data table notebook</a>'\n",
              "            + ' to learn more about interactive tables.';\n",
              "          element.innerHTML = '';\n",
              "          dataTable['output_type'] = 'display_data';\n",
              "          await google.colab.output.renderOutput(dataTable, element);\n",
              "          const docLink = document.createElement('div');\n",
              "          docLink.innerHTML = docLinkHtml;\n",
              "          element.appendChild(docLink);\n",
              "        }\n",
              "      </script>\n",
              "    </div>\n",
              "  </div>\n",
              "  "
            ]
          },
          "metadata": {},
          "execution_count": 9
        }
      ]
    },
    {
      "cell_type": "code",
      "source": [
        "occupationVScredit = df_Car.groupby('Occupation')['Credit Score'].mean().reset_index().round(2).sort_values('Credit Score',ascending=False).head(10).reset_index(drop=True)\n",
        "occupationVScredit"
      ],
      "metadata": {
        "colab": {
          "base_uri": "https://localhost:8080/",
          "height": 362
        },
        "id": "p2uC1F90lEZd",
        "outputId": "44d93828-830d-445f-98b8-c2380584566c"
      },
      "execution_count": 10,
      "outputs": [
        {
          "output_type": "execute_result",
          "data": {
            "text/plain": [
              "          Occupation  Credit Score\n",
              "0             Doctor        900.00\n",
              "1          Physician        833.33\n",
              "2       Entrepreneur        830.00\n",
              "3             Lawyer        825.00\n",
              "4        Optometrist        820.00\n",
              "5            Dentist        820.00\n",
              "6  Investment Banker        820.00\n",
              "7         Pharmacist        810.00\n",
              "8           Attorney        804.00\n",
              "9  Financial Manager        800.00"
            ],
            "text/html": [
              "\n",
              "  <div id=\"df-8a5149fa-9ab0-45bd-8759-06423782d78d\">\n",
              "    <div class=\"colab-df-container\">\n",
              "      <div>\n",
              "<style scoped>\n",
              "    .dataframe tbody tr th:only-of-type {\n",
              "        vertical-align: middle;\n",
              "    }\n",
              "\n",
              "    .dataframe tbody tr th {\n",
              "        vertical-align: top;\n",
              "    }\n",
              "\n",
              "    .dataframe thead th {\n",
              "        text-align: right;\n",
              "    }\n",
              "</style>\n",
              "<table border=\"1\" class=\"dataframe\">\n",
              "  <thead>\n",
              "    <tr style=\"text-align: right;\">\n",
              "      <th></th>\n",
              "      <th>Occupation</th>\n",
              "      <th>Credit Score</th>\n",
              "    </tr>\n",
              "  </thead>\n",
              "  <tbody>\n",
              "    <tr>\n",
              "      <th>0</th>\n",
              "      <td>Doctor</td>\n",
              "      <td>900.00</td>\n",
              "    </tr>\n",
              "    <tr>\n",
              "      <th>1</th>\n",
              "      <td>Physician</td>\n",
              "      <td>833.33</td>\n",
              "    </tr>\n",
              "    <tr>\n",
              "      <th>2</th>\n",
              "      <td>Entrepreneur</td>\n",
              "      <td>830.00</td>\n",
              "    </tr>\n",
              "    <tr>\n",
              "      <th>3</th>\n",
              "      <td>Lawyer</td>\n",
              "      <td>825.00</td>\n",
              "    </tr>\n",
              "    <tr>\n",
              "      <th>4</th>\n",
              "      <td>Optometrist</td>\n",
              "      <td>820.00</td>\n",
              "    </tr>\n",
              "    <tr>\n",
              "      <th>5</th>\n",
              "      <td>Dentist</td>\n",
              "      <td>820.00</td>\n",
              "    </tr>\n",
              "    <tr>\n",
              "      <th>6</th>\n",
              "      <td>Investment Banker</td>\n",
              "      <td>820.00</td>\n",
              "    </tr>\n",
              "    <tr>\n",
              "      <th>7</th>\n",
              "      <td>Pharmacist</td>\n",
              "      <td>810.00</td>\n",
              "    </tr>\n",
              "    <tr>\n",
              "      <th>8</th>\n",
              "      <td>Attorney</td>\n",
              "      <td>804.00</td>\n",
              "    </tr>\n",
              "    <tr>\n",
              "      <th>9</th>\n",
              "      <td>Financial Manager</td>\n",
              "      <td>800.00</td>\n",
              "    </tr>\n",
              "  </tbody>\n",
              "</table>\n",
              "</div>\n",
              "      <button class=\"colab-df-convert\" onclick=\"convertToInteractive('df-8a5149fa-9ab0-45bd-8759-06423782d78d')\"\n",
              "              title=\"Convert this dataframe to an interactive table.\"\n",
              "              style=\"display:none;\">\n",
              "        \n",
              "  <svg xmlns=\"http://www.w3.org/2000/svg\" height=\"24px\"viewBox=\"0 0 24 24\"\n",
              "       width=\"24px\">\n",
              "    <path d=\"M0 0h24v24H0V0z\" fill=\"none\"/>\n",
              "    <path d=\"M18.56 5.44l.94 2.06.94-2.06 2.06-.94-2.06-.94-.94-2.06-.94 2.06-2.06.94zm-11 1L8.5 8.5l.94-2.06 2.06-.94-2.06-.94L8.5 2.5l-.94 2.06-2.06.94zm10 10l.94 2.06.94-2.06 2.06-.94-2.06-.94-.94-2.06-.94 2.06-2.06.94z\"/><path d=\"M17.41 7.96l-1.37-1.37c-.4-.4-.92-.59-1.43-.59-.52 0-1.04.2-1.43.59L10.3 9.45l-7.72 7.72c-.78.78-.78 2.05 0 2.83L4 21.41c.39.39.9.59 1.41.59.51 0 1.02-.2 1.41-.59l7.78-7.78 2.81-2.81c.8-.78.8-2.07 0-2.86zM5.41 20L4 18.59l7.72-7.72 1.47 1.35L5.41 20z\"/>\n",
              "  </svg>\n",
              "      </button>\n",
              "      \n",
              "  <style>\n",
              "    .colab-df-container {\n",
              "      display:flex;\n",
              "      flex-wrap:wrap;\n",
              "      gap: 12px;\n",
              "    }\n",
              "\n",
              "    .colab-df-convert {\n",
              "      background-color: #E8F0FE;\n",
              "      border: none;\n",
              "      border-radius: 50%;\n",
              "      cursor: pointer;\n",
              "      display: none;\n",
              "      fill: #1967D2;\n",
              "      height: 32px;\n",
              "      padding: 0 0 0 0;\n",
              "      width: 32px;\n",
              "    }\n",
              "\n",
              "    .colab-df-convert:hover {\n",
              "      background-color: #E2EBFA;\n",
              "      box-shadow: 0px 1px 2px rgba(60, 64, 67, 0.3), 0px 1px 3px 1px rgba(60, 64, 67, 0.15);\n",
              "      fill: #174EA6;\n",
              "    }\n",
              "\n",
              "    [theme=dark] .colab-df-convert {\n",
              "      background-color: #3B4455;\n",
              "      fill: #D2E3FC;\n",
              "    }\n",
              "\n",
              "    [theme=dark] .colab-df-convert:hover {\n",
              "      background-color: #434B5C;\n",
              "      box-shadow: 0px 1px 3px 1px rgba(0, 0, 0, 0.15);\n",
              "      filter: drop-shadow(0px 1px 2px rgba(0, 0, 0, 0.3));\n",
              "      fill: #FFFFFF;\n",
              "    }\n",
              "  </style>\n",
              "\n",
              "      <script>\n",
              "        const buttonEl =\n",
              "          document.querySelector('#df-8a5149fa-9ab0-45bd-8759-06423782d78d button.colab-df-convert');\n",
              "        buttonEl.style.display =\n",
              "          google.colab.kernel.accessAllowed ? 'block' : 'none';\n",
              "\n",
              "        async function convertToInteractive(key) {\n",
              "          const element = document.querySelector('#df-8a5149fa-9ab0-45bd-8759-06423782d78d');\n",
              "          const dataTable =\n",
              "            await google.colab.kernel.invokeFunction('convertToInteractive',\n",
              "                                                     [key], {});\n",
              "          if (!dataTable) return;\n",
              "\n",
              "          const docLinkHtml = 'Like what you see? Visit the ' +\n",
              "            '<a target=\"_blank\" href=https://colab.research.google.com/notebooks/data_table.ipynb>data table notebook</a>'\n",
              "            + ' to learn more about interactive tables.';\n",
              "          element.innerHTML = '';\n",
              "          dataTable['output_type'] = 'display_data';\n",
              "          await google.colab.output.renderOutput(dataTable, element);\n",
              "          const docLink = document.createElement('div');\n",
              "          docLink.innerHTML = docLinkHtml;\n",
              "          element.appendChild(docLink);\n",
              "        }\n",
              "      </script>\n",
              "    </div>\n",
              "  </div>\n",
              "  "
            ]
          },
          "metadata": {},
          "execution_count": 10
        }
      ]
    },
    {
      "cell_type": "markdown",
      "source": [
        "# Now we will perform Data Preprocessing i.e split data into train and test after performing label encoding"
      ],
      "metadata": {
        "id": "Lq6BVDN0l7gv"
      }
    },
    {
      "cell_type": "code",
      "source": [
        "df_Car_dummy = df_Car[df_Car['Number of Children']!='na']\n",
        "le = LabelEncoder()\n",
        "for cd in df_Car_dummy.columns:\n",
        "    if df_Car_dummy[cd].dtype == 'object':\n",
        "        df_Car_dummy[cd] = le.fit_transform(df_Car_dummy[cd])"
      ],
      "metadata": {
        "id": "LWbs00AKmJCq"
      },
      "execution_count": 11,
      "outputs": []
    },
    {
      "cell_type": "code",
      "source": [
        "df_Car_dummy.info()"
      ],
      "metadata": {
        "colab": {
          "base_uri": "https://localhost:8080/"
        },
        "id": "SFC1r4NruLC8",
        "outputId": "045a184a-7573-4ade-9775-9991d979b671"
      },
      "execution_count": 12,
      "outputs": [
        {
          "output_type": "stream",
          "name": "stdout",
          "text": [
            "<class 'pandas.core.frame.DataFrame'>\n",
            "Int64Index: 286 entries, 0 to 499\n",
            "Data columns (total 8 columns):\n",
            " #   Column               Non-Null Count  Dtype  \n",
            "---  ------               --------------  -----  \n",
            " 0   Occupation           286 non-null    int64  \n",
            " 1   Monthly Income       286 non-null    float64\n",
            " 2   Credit Score         286 non-null    float64\n",
            " 3   Years of Employment  286 non-null    int64  \n",
            " 4   Finance Status       286 non-null    int64  \n",
            " 5   Finance History      286 non-null    int64  \n",
            " 6   Car                  286 non-null    int64  \n",
            " 7   Number of Children   286 non-null    int64  \n",
            "dtypes: float64(2), int64(6)\n",
            "memory usage: 20.1 KB\n"
          ]
        }
      ]
    },
    {
      "cell_type": "code",
      "source": [
        "X = df_Car_dummy.drop('Car',axis=1)\n",
        "y = df_Car_dummy['Car']\n",
        "X_train,X_test,y_train,y_test = train_test_split(X,y,test_size=0.2,random_state=42)"
      ],
      "metadata": {
        "id": "Fov0dzV60xgA"
      },
      "execution_count": 13,
      "outputs": []
    },
    {
      "cell_type": "code",
      "source": [
        "scaler = MinMaxScaler()\n",
        "X_train = scaler.fit_transform(X_train)\n",
        "X_test = scaler.fit_transform(X_test)\n",
        "X_train = pd.DataFrame(X_train)\n",
        "X_test = pd.DataFrame(X_test)"
      ],
      "metadata": {
        "id": "UBjizik4vGT4"
      },
      "execution_count": 14,
      "outputs": []
    },
    {
      "cell_type": "code",
      "source": [
        "res = pd.DataFrame()\n",
        "LR_classifier = LogisticRegression()\n",
        "DT_classifier = DecisionTreeClassifier()\n",
        "RF_classifier = RandomForestClassifier()\n",
        "KNN_classifier = KNeighborsClassifier()\n",
        "NB_classifier = GaussianNB()\n",
        "\n",
        "Models = [LR_classifier,KNN_classifier,DT_classifier,RF_classifier,NB_classifier]\n",
        "\n",
        "for model in Models:\n",
        "    print('Model is: {}'.format(model))\n",
        "    m = model.fit(X_train,y_train)\n",
        "    prediction = m.predict(X_test)\n",
        "    \n",
        "    # confusion matrix\n",
        "    matrix = confusion_matrix(y_test,prediction)\n",
        "    print('Confusion matrix : \\n', matrix)\n",
        "    \n",
        "    TP, FN, FP, TN = confusion_matrix(y_test,prediction).reshape(-1)\n",
        "    print('Outcome values : \\n', TP, FN, FP, TN)\n",
        "\n",
        "    # classification report for precision, recall f1-score and accuracy\n",
        "    Classifcation_Report = classification_report(y_test,prediction,labels=[1,0])\n",
        "    print('Classification report : \\n', Classifcation_Report)\n",
        "\n",
        "    accuracy = round((TP+TN)/(TP+FP+TN+FN), 3)\n",
        "    precision = round(TP/(TP+FP), 3)\n",
        "    TPR = round(TP/(TP+FN), 3)\n",
        "    TNR = round(TN/(TN+FP), 3)\n",
        "\n",
        "    print('Accuracy :', round(accuracy*100, 2),'%')\n",
        "    print('Precision :', round(precision*100, 2),'%')\n",
        "    print('True Positive Rate :', round(TPR*100,2), '%')\n",
        "    print('True Negative Rate :', round(TNR*100,2), '%\\n' )\n",
        "    print('roc_auc_score:', round(roc_auc_score(y_test,prediction), 3))\n",
        "    print('='*50)"
      ],
      "metadata": {
        "colab": {
          "base_uri": "https://localhost:8080/"
        },
        "id": "o02fu9z6vBw7",
        "outputId": "7eaff473-2e0f-4969-ea70-e32f1c5e1610"
      },
      "execution_count": 15,
      "outputs": [
        {
          "output_type": "stream",
          "name": "stdout",
          "text": [
            "Model is: LogisticRegression()\n",
            "Confusion matrix : \n",
            " [[ 9  5]\n",
            " [ 3 41]]\n",
            "Outcome values : \n",
            " 9 5 3 41\n",
            "Classification report : \n",
            "               precision    recall  f1-score   support\n",
            "\n",
            "           1       0.89      0.93      0.91        44\n",
            "           0       0.75      0.64      0.69        14\n",
            "\n",
            "    accuracy                           0.86        58\n",
            "   macro avg       0.82      0.79      0.80        58\n",
            "weighted avg       0.86      0.86      0.86        58\n",
            "\n",
            "Accuracy : 86.2 %\n",
            "Precision : 75.0 %\n",
            "True Positive Rate : 64.3 %\n",
            "True Negative Rate : 93.2 %\n",
            "\n",
            "roc_auc_score: 0.787\n",
            "==================================================\n",
            "Model is: KNeighborsClassifier()\n",
            "Confusion matrix : \n",
            " [[11  3]\n",
            " [ 4 40]]\n",
            "Outcome values : \n",
            " 11 3 4 40\n",
            "Classification report : \n",
            "               precision    recall  f1-score   support\n",
            "\n",
            "           1       0.93      0.91      0.92        44\n",
            "           0       0.73      0.79      0.76        14\n",
            "\n",
            "    accuracy                           0.88        58\n",
            "   macro avg       0.83      0.85      0.84        58\n",
            "weighted avg       0.88      0.88      0.88        58\n",
            "\n",
            "Accuracy : 87.9 %\n",
            "Precision : 73.3 %\n",
            "True Positive Rate : 78.6 %\n",
            "True Negative Rate : 90.9 %\n",
            "\n",
            "roc_auc_score: 0.847\n",
            "==================================================\n",
            "Model is: DecisionTreeClassifier()\n",
            "Confusion matrix : \n",
            " [[13  1]\n",
            " [ 8 36]]\n",
            "Outcome values : \n",
            " 13 1 8 36\n",
            "Classification report : \n",
            "               precision    recall  f1-score   support\n",
            "\n",
            "           1       0.97      0.82      0.89        44\n",
            "           0       0.62      0.93      0.74        14\n",
            "\n",
            "    accuracy                           0.84        58\n",
            "   macro avg       0.80      0.87      0.82        58\n",
            "weighted avg       0.89      0.84      0.85        58\n",
            "\n",
            "Accuracy : 84.5 %\n",
            "Precision : 61.9 %\n",
            "True Positive Rate : 92.9 %\n",
            "True Negative Rate : 81.8 %\n",
            "\n",
            "roc_auc_score: 0.873\n",
            "==================================================\n",
            "Model is: RandomForestClassifier()\n",
            "Confusion matrix : \n",
            " [[11  3]\n",
            " [ 7 37]]\n",
            "Outcome values : \n",
            " 11 3 7 37\n",
            "Classification report : \n",
            "               precision    recall  f1-score   support\n",
            "\n",
            "           1       0.93      0.84      0.88        44\n",
            "           0       0.61      0.79      0.69        14\n",
            "\n",
            "    accuracy                           0.83        58\n",
            "   macro avg       0.77      0.81      0.78        58\n",
            "weighted avg       0.85      0.83      0.83        58\n",
            "\n",
            "Accuracy : 82.8 %\n",
            "Precision : 61.1 %\n",
            "True Positive Rate : 78.6 %\n",
            "True Negative Rate : 84.1 %\n",
            "\n",
            "roc_auc_score: 0.813\n",
            "==================================================\n",
            "Model is: GaussianNB()\n",
            "Confusion matrix : \n",
            " [[ 9  5]\n",
            " [ 1 43]]\n",
            "Outcome values : \n",
            " 9 5 1 43\n",
            "Classification report : \n",
            "               precision    recall  f1-score   support\n",
            "\n",
            "           1       0.90      0.98      0.93        44\n",
            "           0       0.90      0.64      0.75        14\n",
            "\n",
            "    accuracy                           0.90        58\n",
            "   macro avg       0.90      0.81      0.84        58\n",
            "weighted avg       0.90      0.90      0.89        58\n",
            "\n",
            "Accuracy : 89.7 %\n",
            "Precision : 90.0 %\n",
            "True Positive Rate : 64.3 %\n",
            "True Negative Rate : 97.7 %\n",
            "\n",
            "roc_auc_score: 0.81\n",
            "==================================================\n"
          ]
        }
      ]
    }
  ]
}